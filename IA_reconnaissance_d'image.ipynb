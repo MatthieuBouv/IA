{
  "cells": [
    {
      "cell_type": "markdown",
      "metadata": {
        "id": "view-in-github",
        "colab_type": "text"
      },
      "source": [
        "<a href=\"https://colab.research.google.com/github/MatthieuBouv/IA/blob/main/IA_reconnaissance_d'image.ipynb\" target=\"_parent\"><img src=\"https://colab.research.google.com/assets/colab-badge.svg\" alt=\"Open In Colab\"/></a>"
      ]
    },
    {
      "cell_type": "markdown",
      "source": [],
      "metadata": {
        "id": "xslIY3eYdCzR"
      }
    },
    {
      "cell_type": "markdown",
      "source": [
        "Ce projet est fait pour reconnaitre les différents déchet,nous allons utiliser une IA de reconnaissance d'image, on va utiliser la bibliothèque tenserflow"
      ],
      "metadata": {
        "id": "kwFs9IYgw43R"
      }
    },
    {
      "cell_type": "code",
      "execution_count": null,
      "metadata": {
        "id": "td8KZs6tYZKV"
      },
      "outputs": [],
      "source": [
        "import tensorflow as tf\n",
        "from tensorflow import keras\n",
        "from tensorflow.keras.models import Sequential\n",
        "from tensorflow.keras.layers import Conv2D, MaxPooling2D, Flatten, Dense,BatchNormalization, Dropout\n",
        "from tensorflow.keras.preprocessing.image import ImageDataGenerator\n"
      ]
    },
    {
      "cell_type": "markdown",
      "source": [
        "Ici on va chercher les données dans mon drive. On les sépares en parties une partie entrainement et validation.Nous avons 8 types de classes car nous avons 8 types de dechets"
      ],
      "metadata": {
        "id": "x3P99sVJwZOS"
      }
    },
    {
      "cell_type": "code",
      "execution_count": null,
      "metadata": {
        "colab": {
          "base_uri": "https://localhost:8080/"
        },
        "id": "zkkYnpd6Xxb_",
        "outputId": "6a187577-02c4-4615-cfc1-7abb2c02469b"
      },
      "outputs": [
        {
          "output_type": "stream",
          "name": "stdout",
          "text": [
            "Found 16244 images belonging to 8 classes.\n",
            "Found 4057 images belonging to 8 classes.\n"
          ]
        }
      ],
      "source": [
        "train_datagen = ImageDataGenerator(\n",
        "    rescale=1./255,\n",
        "    shear_range=0.2,\n",
        "    zoom_range=0.2,\n",
        "    horizontal_flip=True,\n",
        "    validation_split=0.2\n",
        ")\n",
        "\n",
        "train_generator = train_datagen.flow_from_directory(\n",
        "    '/content/drive/MyDrive/cap projet 417/data/data',\n",
        "    target_size=(150, 150),\n",
        "    batch_size=32,\n",
        "    class_mode='categorical',\n",
        "    subset='training'\n",
        ")\n",
        "\n",
        "validation_generator = train_datagen.flow_from_directory(\n",
        "    '/content/drive/MyDrive/cap projet 417/data/data',\n",
        "    target_size=(150, 150),\n",
        "    batch_size=32,\n",
        "    class_mode='categorical',\n",
        "    subset='validation'\n",
        ")"
      ]
    },
    {
      "cell_type": "code",
      "source": [
        "# Création d'une instance de Sequential\n",
        "model = Sequential()\n",
        "model.add(BatchNormalization(input_shape=(150, 150, 3)))\n",
        "#On met des couches de covolutions et de pooling\n",
        "model.add(Conv2D(256, (3, 3), activation='relu'))\n",
        "model.add(MaxPooling2D(2, 2))\n",
        "\n",
        "model.add(Conv2D(128, (3, 3), activation='relu'))\n",
        "model.add(MaxPooling2D(2, 2))\n",
        "\n",
        "model.add(Conv2D(64, (3, 3), activation='relu'))\n",
        "model.add(MaxPooling2D(2, 2))\n",
        "\n",
        "model.add(Conv2D(32, (3, 3), activation='relu'))\n",
        "model.add(MaxPooling2D(2, 2))\n",
        "\n",
        "# Aplatir les données avant de les passer à la couche Dense\n",
        "model.add(Flatten())\n",
        "\n",
        "# Ajouter une couche Dense avec activation ReLU\n",
        "model.add(Dense(128, activation='relu'))\n",
        "\n",
        "# Ajouter une couche de Dropout pour réduire le surajustement\n",
        "model.add(Dropout(0.5))\n",
        "\n",
        "model.add(Dense(8, activation='softmax'))\n",
        "\n",
        "# Compiler le modèle\n",
        "model.compile(optimizer='adam', loss='categorical_crossentropy', metrics=['accuracy'])\n"
      ],
      "metadata": {
        "id": "2lfOnELrQUQj"
      },
      "execution_count": null,
      "outputs": []
    },
    {
      "cell_type": "markdown",
      "source": [
        "Création du code"
      ],
      "metadata": {
        "id": "c0Q8dw_Lx2Ah"
      }
    },
    {
      "cell_type": "code",
      "execution_count": null,
      "metadata": {
        "colab": {
          "base_uri": "https://localhost:8080/"
        },
        "id": "cdXAH-2zZJgh",
        "outputId": "fea1d5b0-cd2b-4521-fb54-d9fd2bf983e1"
      },
      "outputs": [
        {
          "output_type": "stream",
          "name": "stdout",
          "text": [
            "Epoch 1/5\n",
            "508/508 [==============================] - 247s 482ms/step - loss: 0.8546 - accuracy: 0.6993 - val_loss: 1.1516 - val_accuracy: 0.6527\n",
            "Epoch 2/5\n",
            "508/508 [==============================] - 248s 488ms/step - loss: 0.7837 - accuracy: 0.7331 - val_loss: 1.2185 - val_accuracy: 0.6367\n",
            "Epoch 3/5\n",
            "508/508 [==============================] - 244s 480ms/step - loss: 0.7355 - accuracy: 0.7450 - val_loss: 1.2701 - val_accuracy: 0.6608\n",
            "Epoch 4/5\n",
            "508/508 [==============================] - 237s 467ms/step - loss: 0.6913 - accuracy: 0.7642 - val_loss: 1.1708 - val_accuracy: 0.6658\n",
            "Epoch 5/5\n",
            "508/508 [==============================] - 236s 465ms/step - loss: 0.6454 - accuracy: 0.7801 - val_loss: 1.1617 - val_accuracy: 0.6961\n"
          ]
        }
      ],
      "source": [
        "history = model.fit(\n",
        "    train_generator,\n",
        "    steps_per_epoch=len(train_generator),\n",
        "    epochs=5,\n",
        "    validation_data=validation_generator,\n",
        "    validation_steps=len(validation_generator)\n",
        ")"
      ]
    },
    {
      "cell_type": "markdown",
      "source": [
        "On va sauvgarder le modèle que nous venons de créer:"
      ],
      "metadata": {
        "id": "9hvJtqWWcrJa"
      }
    },
    {
      "cell_type": "code",
      "execution_count": null,
      "metadata": {
        "id": "yQ0z-7QPaqRA"
      },
      "outputs": [],
      "source": [
        "from tensorflow.keras.models import load_model\n",
        "# Après l'entraînement de votre modèle, vous pouvez l'enregistrer comme suit :\n",
        "model.save('mon_modele.h5')"
      ]
    },
    {
      "cell_type": "markdown",
      "source": [
        "ON test l'accuracy du modèle avec le fichier de validation créer plus tôt"
      ],
      "metadata": {
        "id": "gdvwaNmEx9Z9"
      }
    },
    {
      "cell_type": "code",
      "execution_count": null,
      "metadata": {
        "id": "TCxAbwvGZSAX",
        "colab": {
          "base_uri": "https://localhost:8080/"
        },
        "outputId": "5ccd0820-c090-4b4d-dd13-d32eceb38cbd"
      },
      "outputs": [
        {
          "output_type": "stream",
          "name": "stdout",
          "text": [
            "127/127 [==============================] - 42s 330ms/step - loss: 1.1729 - accuracy: 0.6951\n",
            "Accuracy: 0.695094883441925\n"
          ]
        }
      ],
      "source": [
        "accuracy = model.evaluate(validation_generator)\n",
        "print(f'Accuracy: {accuracy[1]}')"
      ]
    },
    {
      "cell_type": "markdown",
      "source": [
        "Cette partie peut etre fait sur une page à part nous allons dans un premier temp charger le modèle de l'IA. Et la seconde partie permet d'aller chercher une image et de donnée une réponses"
      ],
      "metadata": {
        "id": "U8u0Lze3c4Oh"
      }
    },
    {
      "cell_type": "code",
      "execution_count": null,
      "metadata": {
        "id": "bkEg0cdravBs"
      },
      "outputs": [],
      "source": [
        "from tensorflow.keras.models import load_model\n",
        "\n",
        "# Charger le modèle pré-entrainé\n",
        "model = load_model('mon_modele.h5')"
      ]
    },
    {
      "cell_type": "code",
      "execution_count": null,
      "metadata": {
        "id": "gHjrHz-Ya6Ah",
        "colab": {
          "base_uri": "https://localhost:8080/"
        },
        "outputId": "8bc67e09-c7cf-4ca1-ba17-19bb84148463"
      },
      "outputs": [
        {
          "output_type": "stream",
          "name": "stdout",
          "text": [
            "1/1 [==============================] - 7s 7s/step\n",
            "Le dechet reconnu est dans la catégorie plastique.\n"
          ]
        }
      ],
      "source": [
        "from tensorflow.keras.preprocessing import image\n",
        "import numpy as np\n",
        "\n",
        "# Chemin vers votre image à prédire\n",
        "img_path = \"/content/test (99).jpg\"  # Remplacez par le chemin de votre image\n",
        "img = image.load_img(img_path, target_size=(150, 150))\n",
        "img = image.img_to_array(img)\n",
        "img = np.expand_dims(img, axis=0)\n",
        "img = img / 255.0\n",
        "predictions = model.predict(img)\n",
        "class_names = ['alimentaire','batterie','carton','général','metal','papier','plastique','verre']\n",
        "predicted_class = np.argmax(predictions, axis=1)[0]\n",
        "predicted_class_name = class_names[predicted_class]\n",
        "\n",
        "print(f\"Le dechet reconnu est dans la catégorie {predicted_class_name}.\")"
      ]
    },
    {
      "cell_type": "markdown",
      "source": [
        "changer en anglais"
      ],
      "metadata": {
        "id": "xd9-EMWpdbdL"
      }
    }
  ],
  "metadata": {
    "colab": {
      "provenance": [],
      "gpuType": "T4",
      "mount_file_id": "1eZEoImTd-sPdrYH3qulQP8NM5QDhezlx",
      "authorship_tag": "ABX9TyMG5C0PyyyFJVsbjBAlZ33y",
      "include_colab_link": true
    },
    "kernelspec": {
      "display_name": "Python 3",
      "name": "python3"
    },
    "language_info": {
      "name": "python"
    },
    "accelerator": "GPU"
  },
  "nbformat": 4,
  "nbformat_minor": 0
}